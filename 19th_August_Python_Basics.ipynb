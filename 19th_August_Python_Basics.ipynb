{
  "nbformat": 4,
  "nbformat_minor": 0,
  "metadata": {
    "colab": {
      "provenance": [],
      "authorship_tag": "ABX9TyPw/Kb4REPhJZca0AXSjgn/",
      "include_colab_link": true
    },
    "kernelspec": {
      "name": "python3",
      "display_name": "Python 3"
    },
    "language_info": {
      "name": "python"
    }
  },
  "cells": [
    {
      "cell_type": "markdown",
      "metadata": {
        "id": "view-in-github",
        "colab_type": "text"
      },
      "source": [
        "<a href=\"https://colab.research.google.com/github/Saikumarreddy1999/Python/blob/main/19th_August_Python_Basics.ipynb\" target=\"_parent\"><img src=\"https://colab.research.google.com/assets/colab-badge.svg\" alt=\"Open In Colab\"/></a>"
      ]
    },
    {
      "cell_type": "markdown",
      "source": [
        "TOPIC: Python Basics **Variable**"
      ],
      "metadata": {
        "id": "XgoRR2Mt-uWY"
      }
    },
    {
      "cell_type": "code",
      "execution_count": 13,
      "metadata": {
        "colab": {
          "base_uri": "https://localhost:8080/"
        },
        "id": "0GsX3sVu70zz",
        "outputId": "66b6b835-b180-4614-cd65-095215d3f1fa"
      },
      "outputs": [
        {
          "output_type": "stream",
          "name": "stdout",
          "text": [
            "value of x after swapping is : 20\n",
            "value of y after swapping is : 10\n"
          ]
        }
      ],
      "source": [
        "#1. Declare two variables, `x` and `y`, and assign them integer values. Swap the values of these variables without using any temporary variable.\n",
        "x = 10\n",
        "y = 20\n",
        "x = x + y\n",
        "y = x - y\n",
        "x = x - y\n",
        "print(f\"value of x after swapping is : {x}\")\n",
        "print(f\"value of y after swapping is : {y}\")"
      ]
    },
    {
      "cell_type": "code",
      "source": [
        "#2. Create a program that calculates the area of a rectangle. Take the length and width as inputs from the user and store them in variables. Calculate and display the area.\n",
        "print(\"Enter Length : \")\n",
        "length = int(input())\n",
        "print(\"Enter Width : \")\n",
        "width = int(input())\n",
        "Area = length * width\n",
        "print(f\"Area of Reactangle is : {Area}\")"
      ],
      "metadata": {
        "colab": {
          "base_uri": "https://localhost:8080/"
        },
        "id": "wTtGIPV38Qa6",
        "outputId": "64c0c23f-3989-4643-89db-c5d2544b2d96"
      },
      "execution_count": 11,
      "outputs": [
        {
          "output_type": "stream",
          "name": "stdout",
          "text": [
            "Enter Length : \n",
            "10\n",
            "Enter Width : \n",
            "20\n",
            "Area of Reactangle is : 200\n"
          ]
        }
      ]
    },
    {
      "cell_type": "code",
      "source": [
        "#3. Write a Python program that converts temperatures from Celsius to Fahrenheit. Take the temperature in Celsius as input, store it in a variable, convert it to Fahrenheit, and display the result.\n",
        "print(\"Enter Temperature in Celcius : \")\n",
        "temperature = int(input())\n",
        "F = temperature * 9/5 +32\n",
        "print(f\"Farenheit is : {F}\")"
      ],
      "metadata": {
        "colab": {
          "base_uri": "https://localhost:8080/"
        },
        "id": "NsoDn0QQ9tt9",
        "outputId": "184c1813-3464-4056-c694-864456886490"
      },
      "execution_count": 12,
      "outputs": [
        {
          "output_type": "stream",
          "name": "stdout",
          "text": [
            "Enter Temperature in Celcius : \n",
            "10\n",
            "Farenheit is : 50.0\n"
          ]
        }
      ]
    },
    {
      "cell_type": "markdown",
      "source": [
        "**TOPIC: String Based Questions**"
      ],
      "metadata": {
        "id": "LMbwcBnf-zqT"
      }
    },
    {
      "cell_type": "code",
      "source": [
        "#1. Write a Python program that takes a string as input and prints the length of the string.\n",
        "str1 = str(input())\n",
        "print(f\"Length of string is : {len(str1)}\")"
      ],
      "metadata": {
        "colab": {
          "base_uri": "https://localhost:8080/"
        },
        "id": "E5MvDg7c-dIm",
        "outputId": "7640b0d6-fdf8-488d-8b93-4feef68653ab"
      },
      "execution_count": 14,
      "outputs": [
        {
          "output_type": "stream",
          "name": "stdout",
          "text": [
            "Lokesh\n",
            "Length of string is : 6\n"
          ]
        }
      ]
    },
    {
      "cell_type": "code",
      "source": [
        "#2. Create a program that takes a sentence from the user and counts the number of vowels (a, e, i, o, u) in the string.\n",
        "str1 = str(input())\n",
        "vowelsCount = 0\n",
        "for i in str1:\n",
        "  if(i=='a' or i=='e' or i=='i' or i=='o' or i=='u'):\n",
        "    vowelsCount = vowelsCount + 1\n",
        "print(f\"Total vowels present in a scentence are : {vowelsCount}\")"
      ],
      "metadata": {
        "colab": {
          "base_uri": "https://localhost:8080/"
        },
        "id": "H_GS3eQr_Saz",
        "outputId": "270a0c49-2543-4a77-b745-4a40d4603ad5"
      },
      "execution_count": 22,
      "outputs": [
        {
          "output_type": "stream",
          "name": "stdout",
          "text": [
            "i am going to school\n",
            "Total vowels present in a scentence are : 7\n"
          ]
        }
      ]
    },
    {
      "cell_type": "code",
      "source": [
        "#3. Given a string, reverse the order of characters using string slicing and print the reversed string.\n",
        "str1 = \"hello lokesh, good morning\"\n",
        "print(f\"Reversed string is : {str1[::-1]}\")"
      ],
      "metadata": {
        "colab": {
          "base_uri": "https://localhost:8080/"
        },
        "id": "5dL8LT12AEhW",
        "outputId": "daac98b9-ecb1-4f17-f35e-c86b6c4cce1c"
      },
      "execution_count": 24,
      "outputs": [
        {
          "output_type": "stream",
          "name": "stdout",
          "text": [
            "Reversed string is : gninrom doog ,hsekol olleh\n"
          ]
        }
      ]
    },
    {
      "cell_type": "code",
      "source": [
        "#4. Write a program that takes a string as input and checks if it is a palindrome (reads the same forwards and backwards).\n",
        "str1 = str(input())\n",
        "if str1 == str1[::-1]:\n",
        "  print(f\"Entered String {str1} is a palindrome\")\n",
        "else:\n",
        "  print(f\"Entered String {str1} is not a palindrome\")"
      ],
      "metadata": {
        "colab": {
          "base_uri": "https://localhost:8080/"
        },
        "id": "v3-C4zW-Bpyu",
        "outputId": "b38f82b2-3d99-43e3-8354-3c88209bff3e"
      },
      "execution_count": 27,
      "outputs": [
        {
          "output_type": "stream",
          "name": "stdout",
          "text": [
            "foof\n",
            "Entered String foof is a palindrome\n"
          ]
        }
      ]
    },
    {
      "cell_type": "code",
      "source": [
        "#5. Create a program that takes a string as input and removes all the spaces from it. Print the modified string without spaces.\n",
        "str1 = str(input())\n",
        "print(str1.replace(\" \",\"\"))\n"
      ],
      "metadata": {
        "colab": {
          "base_uri": "https://localhost:8080/"
        },
        "id": "j-6TTdwwCJyS",
        "outputId": "f7202fe9-2ff6-457b-d144-cf7e9ab4ca53"
      },
      "execution_count": 29,
      "outputs": [
        {
          "output_type": "stream",
          "name": "stdout",
          "text": [
            "Hi Lokesh this is just a teaser\n",
            "HiLokeshthisisjustateaser\n"
          ]
        }
      ]
    },
    {
      "cell_type": "code",
      "source": [],
      "metadata": {
        "id": "ihWuaSzNC1dt"
      },
      "execution_count": 29,
      "outputs": []
    }
  ]
}